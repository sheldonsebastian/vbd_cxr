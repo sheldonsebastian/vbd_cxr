{
 "cells": [
  {
   "cell_type": "code",
   "execution_count": 1,
   "metadata": {
    "execution": {
     "iopub.execute_input": "2021-03-26T12:20:18.808023Z",
     "iopub.status.busy": "2021-03-26T12:20:18.806988Z",
     "iopub.status.idle": "2021-03-26T12:20:18.812893Z",
     "shell.execute_reply": "2021-03-26T12:20:18.812079Z"
    },
    "papermill": {
     "duration": 0.020527,
     "end_time": "2021-03-26T12:20:18.813114",
     "exception": false,
     "start_time": "2021-03-26T12:20:18.792587",
     "status": "completed"
    },
    "tags": []
   },
   "outputs": [],
   "source": [
    "import numpy as np, pandas as pd\n",
    "from glob import glob\n",
    "import shutil, os\n",
    "from tqdm.notebook import tqdm"
   ]
  },
  {
   "cell_type": "code",
   "execution_count": 2,
   "metadata": {
    "execution": {
     "iopub.execute_input": "2021-03-26T12:20:18.835934Z",
     "iopub.status.busy": "2021-03-26T12:20:18.835199Z",
     "iopub.status.idle": "2021-03-26T12:20:18.898485Z",
     "shell.execute_reply": "2021-03-26T12:20:18.897798Z"
    },
    "papermill": {
     "duration": 0.077011,
     "end_time": "2021-03-26T12:20:18.898640",
     "exception": false,
     "start_time": "2021-03-26T12:20:18.821629",
     "status": "completed"
    },
    "tags": []
   },
   "outputs": [
    {
     "data": {
      "text/html": [
       "<div>\n",
       "<style scoped>\n",
       "    .dataframe tbody tr th:only-of-type {\n",
       "        vertical-align: middle;\n",
       "    }\n",
       "\n",
       "    .dataframe tbody tr th {\n",
       "        vertical-align: top;\n",
       "    }\n",
       "\n",
       "    .dataframe thead th {\n",
       "        text-align: right;\n",
       "    }\n",
       "</style>\n",
       "<table border=\"1\" class=\"dataframe\">\n",
       "  <thead>\n",
       "    <tr style=\"text-align: right;\">\n",
       "      <th></th>\n",
       "      <th>image_id</th>\n",
       "      <th>width</th>\n",
       "      <th>height</th>\n",
       "    </tr>\n",
       "  </thead>\n",
       "  <tbody>\n",
       "    <tr>\n",
       "      <th>0</th>\n",
       "      <td>000ae00eb3942d27e0b97903dd563a6e</td>\n",
       "      <td>3072</td>\n",
       "      <td>3072</td>\n",
       "    </tr>\n",
       "    <tr>\n",
       "      <th>3</th>\n",
       "      <td>001d127bad87592efe45a5c7678f8b8d</td>\n",
       "      <td>3072</td>\n",
       "      <td>3072</td>\n",
       "    </tr>\n",
       "    <tr>\n",
       "      <th>9</th>\n",
       "      <td>00291f7aff0123ea76a59998effef229</td>\n",
       "      <td>3072</td>\n",
       "      <td>3072</td>\n",
       "    </tr>\n",
       "    <tr>\n",
       "      <th>12</th>\n",
       "      <td>003cfe5ce5c0ec5163138eb3b740e328</td>\n",
       "      <td>1994</td>\n",
       "      <td>2430</td>\n",
       "    </tr>\n",
       "    <tr>\n",
       "      <th>15</th>\n",
       "      <td>004dc2a50591fb5f1aaf012bffa95fd9</td>\n",
       "      <td>1994</td>\n",
       "      <td>2430</td>\n",
       "    </tr>\n",
       "  </tbody>\n",
       "</table>\n",
       "</div>"
      ],
      "text/plain": [
       "                            image_id  width  height\n",
       "0   000ae00eb3942d27e0b97903dd563a6e   3072    3072\n",
       "3   001d127bad87592efe45a5c7678f8b8d   3072    3072\n",
       "9   00291f7aff0123ea76a59998effef229   3072    3072\n",
       "12  003cfe5ce5c0ec5163138eb3b740e328   1994    2430\n",
       "15  004dc2a50591fb5f1aaf012bffa95fd9   1994    2430"
      ]
     },
     "execution_count": 2,
     "metadata": {},
     "output_type": "execute_result"
    }
   ],
   "source": [
    "test_df = pd.read_csv(f'/kaggle/input/train-90-10-split/new_df_10.csv')\n",
    "\n",
    "# dropping ALL duplicte values\n",
    "test_df.drop_duplicates(subset =\"image_id\", keep = 'first', inplace = True)\n",
    "\n",
    "test_df.head()"
   ]
  },
  {
   "cell_type": "code",
   "execution_count": 3,
   "metadata": {
    "_cell_guid": "b1076dfc-b9ad-4769-8c92-a6c4dae69d19",
    "_uuid": "8f2839f25d086af736a60e9eeb907d3b93b6e0e5",
    "execution": {
     "iopub.execute_input": "2021-03-26T12:20:18.924755Z",
     "iopub.status.busy": "2021-03-26T12:20:18.923736Z",
     "iopub.status.idle": "2021-03-26T12:20:18.927348Z",
     "shell.execute_reply": "2021-03-26T12:20:18.926846Z"
    },
    "papermill": {
     "duration": 0.019984,
     "end_time": "2021-03-26T12:20:18.927511",
     "exception": false,
     "start_time": "2021-03-26T12:20:18.907527",
     "status": "completed"
    },
    "tags": []
   },
   "outputs": [],
   "source": [
    "def yolo2voc(image_height, image_width, bboxes):\n",
    "    \"\"\"\n",
    "    yolo => [xmid, ymid, w, h] (normalized)\n",
    "    voc  => [x1, y1, x2, y1]\n",
    "    \n",
    "    \"\"\" \n",
    "    bboxes = bboxes.copy().astype(float) # otherwise all value will be 0 as voc_pascal dtype is np.int\n",
    "    \n",
    "    bboxes[..., [0, 2]] = bboxes[..., [0, 2]]* image_width\n",
    "    bboxes[..., [1, 3]] = bboxes[..., [1, 3]]* image_height\n",
    "    \n",
    "    bboxes[..., [0, 1]] = bboxes[..., [0, 1]] - bboxes[..., [2, 3]]/2\n",
    "    bboxes[..., [2, 3]] = bboxes[..., [0, 1]] + bboxes[..., [2, 3]]\n",
    "    \n",
    "    return bboxes\n",
    "\n"
   ]
  },
  {
   "cell_type": "code",
   "execution_count": 4,
   "metadata": {
    "execution": {
     "iopub.execute_input": "2021-03-26T12:20:18.954564Z",
     "iopub.status.busy": "2021-03-26T12:20:18.953763Z",
     "iopub.status.idle": "2021-03-26T12:20:27.094960Z",
     "shell.execute_reply": "2021-03-26T12:20:27.094354Z"
    },
    "papermill": {
     "duration": 8.15882,
     "end_time": "2021-03-26T12:20:27.095106",
     "exception": false,
     "start_time": "2021-03-26T12:20:18.936286",
     "status": "completed"
    },
    "tags": []
   },
   "outputs": [
    {
     "data": {
      "application/vnd.jupyter.widget-view+json": {
       "model_id": "6ec9ead3cf204cf19f4968b5d2139331",
       "version_major": 2,
       "version_minor": 0
      },
      "text/plain": [
       "  0%|          | 0/1482 [00:00<?, ?it/s]"
      ]
     },
     "metadata": {},
     "output_type": "display_data"
    }
   ],
   "source": [
    "image_ids = []\n",
    "PredictionStrings = []\n",
    "\n",
    "for file_path in tqdm(glob('/kaggle/input/infer-10percent-train-as-test-512images/yolov5/runs/detect/exp/labels/*txt')):  \n",
    "    image_id = file_path.split('/')[-1].split('.')[0]\n",
    "    w, h = test_df.loc[test_df.image_id==image_id,['width', 'height']].values[0]\n",
    "    f = open(file_path, 'r')\n",
    "    data = np.array(f.read().replace('\\n', ' ').strip().split(' ')).astype(np.float32).reshape(-1, 6)\n",
    "\n",
    "    \n",
    "    data = data[:, [0, 5, 1, 2, 3, 4]]\n",
    "#     print(data)\n",
    "    bboxes_voc = np.concatenate((data[:, :2].tolist(), np.round(yolo2voc(h, w, data[:, 2:]))), axis =1)\n",
    "#     print(bboxes_voc)\n",
    "#     break\n",
    "\n",
    "    for box in bboxes_voc:\n",
    "        image_ids.append(image_id)\n",
    "        PredictionStrings.append(box)\n"
   ]
  },
  {
   "cell_type": "code",
   "execution_count": 5,
   "metadata": {
    "execution": {
     "iopub.execute_input": "2021-03-26T12:20:27.126267Z",
     "iopub.status.busy": "2021-03-26T12:20:27.125584Z",
     "iopub.status.idle": "2021-03-26T12:20:27.247560Z",
     "shell.execute_reply": "2021-03-26T12:20:27.246404Z"
    },
    "papermill": {
     "duration": 0.142856,
     "end_time": "2021-03-26T12:20:27.247727",
     "exception": false,
     "start_time": "2021-03-26T12:20:27.104871",
     "status": "completed"
    },
    "tags": []
   },
   "outputs": [],
   "source": [
    "pred_df = pd.DataFrame({'image_id':image_ids,\n",
    "                        'PredictionString':PredictionStrings})\n",
    "\n",
    "pred_df['x_min'] = pred_df['PredictionString'].str.get(2)\n",
    "pred_df['y_min'] = pred_df['PredictionString'].str.get(3)\n",
    "pred_df['x_max'] = pred_df['PredictionString'].str.get(4)\n",
    "pred_df['y_max'] = pred_df['PredictionString'].str.get(5)\n",
    "pred_df['label'] = pred_df['PredictionString'].str.get(0)\n",
    "pred_df['confidence_score'] = pred_df['PredictionString'].str.get(1)"
   ]
  },
  {
   "cell_type": "code",
   "execution_count": 6,
   "metadata": {
    "execution": {
     "iopub.execute_input": "2021-03-26T12:20:27.272603Z",
     "iopub.status.busy": "2021-03-26T12:20:27.271588Z",
     "iopub.status.idle": "2021-03-26T12:20:27.277294Z",
     "shell.execute_reply": "2021-03-26T12:20:27.276663Z"
    },
    "papermill": {
     "duration": 0.020278,
     "end_time": "2021-03-26T12:20:27.277450",
     "exception": false,
     "start_time": "2021-03-26T12:20:27.257172",
     "status": "completed"
    },
    "tags": []
   },
   "outputs": [],
   "source": [
    "pred_df.drop(['PredictionString'], axis=1, inplace=True)"
   ]
  },
  {
   "cell_type": "code",
   "execution_count": 7,
   "metadata": {
    "execution": {
     "iopub.execute_input": "2021-03-26T12:20:27.313482Z",
     "iopub.status.busy": "2021-03-26T12:20:27.312407Z",
     "iopub.status.idle": "2021-03-26T12:20:27.317483Z",
     "shell.execute_reply": "2021-03-26T12:20:27.316887Z"
    },
    "papermill": {
     "duration": 0.030685,
     "end_time": "2021-03-26T12:20:27.317636",
     "exception": false,
     "start_time": "2021-03-26T12:20:27.286951",
     "status": "completed"
    },
    "tags": []
   },
   "outputs": [
    {
     "data": {
      "text/html": [
       "<div>\n",
       "<style scoped>\n",
       "    .dataframe tbody tr th:only-of-type {\n",
       "        vertical-align: middle;\n",
       "    }\n",
       "\n",
       "    .dataframe tbody tr th {\n",
       "        vertical-align: top;\n",
       "    }\n",
       "\n",
       "    .dataframe thead th {\n",
       "        text-align: right;\n",
       "    }\n",
       "</style>\n",
       "<table border=\"1\" class=\"dataframe\">\n",
       "  <thead>\n",
       "    <tr style=\"text-align: right;\">\n",
       "      <th></th>\n",
       "      <th>image_id</th>\n",
       "      <th>x_min</th>\n",
       "      <th>y_min</th>\n",
       "      <th>x_max</th>\n",
       "      <th>y_max</th>\n",
       "      <th>label</th>\n",
       "      <th>confidence_score</th>\n",
       "    </tr>\n",
       "  </thead>\n",
       "  <tbody>\n",
       "    <tr>\n",
       "      <th>0</th>\n",
       "      <td>693008c77b426c4afc45e990f5f07287</td>\n",
       "      <td>996.0</td>\n",
       "      <td>747.0</td>\n",
       "      <td>1372.0</td>\n",
       "      <td>1313.0</td>\n",
       "      <td>5.0</td>\n",
       "      <td>0.010429</td>\n",
       "    </tr>\n",
       "    <tr>\n",
       "      <th>1</th>\n",
       "      <td>693008c77b426c4afc45e990f5f07287</td>\n",
       "      <td>980.0</td>\n",
       "      <td>669.0</td>\n",
       "      <td>1372.0</td>\n",
       "      <td>1313.0</td>\n",
       "      <td>7.0</td>\n",
       "      <td>0.010620</td>\n",
       "    </tr>\n",
       "    <tr>\n",
       "      <th>2</th>\n",
       "      <td>693008c77b426c4afc45e990f5f07287</td>\n",
       "      <td>1152.0</td>\n",
       "      <td>879.0</td>\n",
       "      <td>1392.0</td>\n",
       "      <td>1323.0</td>\n",
       "      <td>9.0</td>\n",
       "      <td>0.015495</td>\n",
       "    </tr>\n",
       "    <tr>\n",
       "      <th>3</th>\n",
       "      <td>693008c77b426c4afc45e990f5f07287</td>\n",
       "      <td>712.0</td>\n",
       "      <td>986.0</td>\n",
       "      <td>1308.0</td>\n",
       "      <td>1323.0</td>\n",
       "      <td>3.0</td>\n",
       "      <td>0.024445</td>\n",
       "    </tr>\n",
       "    <tr>\n",
       "      <th>4</th>\n",
       "      <td>693008c77b426c4afc45e990f5f07287</td>\n",
       "      <td>1080.0</td>\n",
       "      <td>830.0</td>\n",
       "      <td>1392.0</td>\n",
       "      <td>1313.0</td>\n",
       "      <td>4.0</td>\n",
       "      <td>0.027206</td>\n",
       "    </tr>\n",
       "  </tbody>\n",
       "</table>\n",
       "</div>"
      ],
      "text/plain": [
       "                           image_id   x_min  y_min   x_max   y_max  label  \\\n",
       "0  693008c77b426c4afc45e990f5f07287   996.0  747.0  1372.0  1313.0    5.0   \n",
       "1  693008c77b426c4afc45e990f5f07287   980.0  669.0  1372.0  1313.0    7.0   \n",
       "2  693008c77b426c4afc45e990f5f07287  1152.0  879.0  1392.0  1323.0    9.0   \n",
       "3  693008c77b426c4afc45e990f5f07287   712.0  986.0  1308.0  1323.0    3.0   \n",
       "4  693008c77b426c4afc45e990f5f07287  1080.0  830.0  1392.0  1313.0    4.0   \n",
       "\n",
       "   confidence_score  \n",
       "0          0.010429  \n",
       "1          0.010620  \n",
       "2          0.015495  \n",
       "3          0.024445  \n",
       "4          0.027206  "
      ]
     },
     "execution_count": 7,
     "metadata": {},
     "output_type": "execute_result"
    }
   ],
   "source": [
    "pred_df.head()"
   ]
  },
  {
   "cell_type": "code",
   "execution_count": 8,
   "metadata": {
    "execution": {
     "iopub.execute_input": "2021-03-26T12:20:27.351026Z",
     "iopub.status.busy": "2021-03-26T12:20:27.349791Z",
     "iopub.status.idle": "2021-03-26T12:20:27.388627Z",
     "shell.execute_reply": "2021-03-26T12:20:27.387956Z"
    },
    "papermill": {
     "duration": 0.059671,
     "end_time": "2021-03-26T12:20:27.388802",
     "exception": false,
     "start_time": "2021-03-26T12:20:27.329131",
     "status": "completed"
    },
    "tags": []
   },
   "outputs": [
    {
     "data": {
      "text/html": [
       "<div>\n",
       "<style scoped>\n",
       "    .dataframe tbody tr th:only-of-type {\n",
       "        vertical-align: middle;\n",
       "    }\n",
       "\n",
       "    .dataframe tbody tr th {\n",
       "        vertical-align: top;\n",
       "    }\n",
       "\n",
       "    .dataframe thead th {\n",
       "        text-align: right;\n",
       "    }\n",
       "</style>\n",
       "<table border=\"1\" class=\"dataframe\">\n",
       "  <thead>\n",
       "    <tr style=\"text-align: right;\">\n",
       "      <th></th>\n",
       "      <th>x_min</th>\n",
       "      <th>y_min</th>\n",
       "      <th>x_max</th>\n",
       "      <th>y_max</th>\n",
       "      <th>label</th>\n",
       "      <th>confidence_score</th>\n",
       "    </tr>\n",
       "  </thead>\n",
       "  <tbody>\n",
       "    <tr>\n",
       "      <th>count</th>\n",
       "      <td>14006.000000</td>\n",
       "      <td>14006.000000</td>\n",
       "      <td>14006.000000</td>\n",
       "      <td>14006.000000</td>\n",
       "      <td>14006.000000</td>\n",
       "      <td>14006.000000</td>\n",
       "    </tr>\n",
       "    <tr>\n",
       "      <th>mean</th>\n",
       "      <td>1041.427103</td>\n",
       "      <td>1028.563687</td>\n",
       "      <td>1392.419891</td>\n",
       "      <td>1378.572969</td>\n",
       "      <td>7.654005</td>\n",
       "      <td>0.134524</td>\n",
       "    </tr>\n",
       "    <tr>\n",
       "      <th>std</th>\n",
       "      <td>588.894008</td>\n",
       "      <td>589.914209</td>\n",
       "      <td>606.952460</td>\n",
       "      <td>644.789205</td>\n",
       "      <td>3.956740</td>\n",
       "      <td>0.210300</td>\n",
       "    </tr>\n",
       "    <tr>\n",
       "      <th>min</th>\n",
       "      <td>-0.000000</td>\n",
       "      <td>0.000000</td>\n",
       "      <td>15.000000</td>\n",
       "      <td>43.000000</td>\n",
       "      <td>0.000000</td>\n",
       "      <td>0.010010</td>\n",
       "    </tr>\n",
       "    <tr>\n",
       "      <th>25%</th>\n",
       "      <td>567.000000</td>\n",
       "      <td>546.000000</td>\n",
       "      <td>890.000000</td>\n",
       "      <td>858.250000</td>\n",
       "      <td>5.000000</td>\n",
       "      <td>0.016575</td>\n",
       "    </tr>\n",
       "    <tr>\n",
       "      <th>50%</th>\n",
       "      <td>963.500000</td>\n",
       "      <td>911.000000</td>\n",
       "      <td>1399.000000</td>\n",
       "      <td>1353.500000</td>\n",
       "      <td>9.000000</td>\n",
       "      <td>0.035095</td>\n",
       "    </tr>\n",
       "    <tr>\n",
       "      <th>75%</th>\n",
       "      <td>1488.000000</td>\n",
       "      <td>1442.750000</td>\n",
       "      <td>1876.000000</td>\n",
       "      <td>1889.000000</td>\n",
       "      <td>11.000000</td>\n",
       "      <td>0.133880</td>\n",
       "    </tr>\n",
       "    <tr>\n",
       "      <th>max</th>\n",
       "      <td>2784.000000</td>\n",
       "      <td>3074.000000</td>\n",
       "      <td>2988.000000</td>\n",
       "      <td>3368.000000</td>\n",
       "      <td>13.000000</td>\n",
       "      <td>0.905273</td>\n",
       "    </tr>\n",
       "  </tbody>\n",
       "</table>\n",
       "</div>"
      ],
      "text/plain": [
       "              x_min         y_min         x_max         y_max         label  \\\n",
       "count  14006.000000  14006.000000  14006.000000  14006.000000  14006.000000   \n",
       "mean    1041.427103   1028.563687   1392.419891   1378.572969      7.654005   \n",
       "std      588.894008    589.914209    606.952460    644.789205      3.956740   \n",
       "min       -0.000000      0.000000     15.000000     43.000000      0.000000   \n",
       "25%      567.000000    546.000000    890.000000    858.250000      5.000000   \n",
       "50%      963.500000    911.000000   1399.000000   1353.500000      9.000000   \n",
       "75%     1488.000000   1442.750000   1876.000000   1889.000000     11.000000   \n",
       "max     2784.000000   3074.000000   2988.000000   3368.000000     13.000000   \n",
       "\n",
       "       confidence_score  \n",
       "count      14006.000000  \n",
       "mean           0.134524  \n",
       "std            0.210300  \n",
       "min            0.010010  \n",
       "25%            0.016575  \n",
       "50%            0.035095  \n",
       "75%            0.133880  \n",
       "max            0.905273  "
      ]
     },
     "execution_count": 8,
     "metadata": {},
     "output_type": "execute_result"
    }
   ],
   "source": [
    "pred_df.describe()"
   ]
  },
  {
   "cell_type": "code",
   "execution_count": 9,
   "metadata": {
    "execution": {
     "iopub.execute_input": "2021-03-26T12:20:27.432720Z",
     "iopub.status.busy": "2021-03-26T12:20:27.432032Z",
     "iopub.status.idle": "2021-03-26T12:20:27.613926Z",
     "shell.execute_reply": "2021-03-26T12:20:27.613325Z"
    },
    "papermill": {
     "duration": 0.212612,
     "end_time": "2021-03-26T12:20:27.614174",
     "exception": false,
     "start_time": "2021-03-26T12:20:27.401562",
     "status": "completed"
    },
    "tags": []
   },
   "outputs": [
    {
     "name": "stdout",
     "output_type": "stream",
     "text": [
      "14034\n"
     ]
    },
    {
     "data": {
      "text/html": [
       "<div>\n",
       "<style scoped>\n",
       "    .dataframe tbody tr th:only-of-type {\n",
       "        vertical-align: middle;\n",
       "    }\n",
       "\n",
       "    .dataframe tbody tr th {\n",
       "        vertical-align: top;\n",
       "    }\n",
       "\n",
       "    .dataframe thead th {\n",
       "        text-align: right;\n",
       "    }\n",
       "</style>\n",
       "<table border=\"1\" class=\"dataframe\">\n",
       "  <thead>\n",
       "    <tr style=\"text-align: right;\">\n",
       "      <th></th>\n",
       "      <th>image_id</th>\n",
       "      <th>x_min</th>\n",
       "      <th>y_min</th>\n",
       "      <th>x_max</th>\n",
       "      <th>y_max</th>\n",
       "      <th>label</th>\n",
       "      <th>confidence_score</th>\n",
       "    </tr>\n",
       "  </thead>\n",
       "  <tbody>\n",
       "    <tr>\n",
       "      <th>14029</th>\n",
       "      <td>ffeffc54594debf3716d6fcd2402a99f</td>\n",
       "      <td>1396.0</td>\n",
       "      <td>333.0</td>\n",
       "      <td>1747.0</td>\n",
       "      <td>414.0</td>\n",
       "      <td>11.0</td>\n",
       "      <td>0.011871</td>\n",
       "    </tr>\n",
       "    <tr>\n",
       "      <th>14030</th>\n",
       "      <td>ffeffc54594debf3716d6fcd2402a99f</td>\n",
       "      <td>19.0</td>\n",
       "      <td>2852.0</td>\n",
       "      <td>284.0</td>\n",
       "      <td>2944.0</td>\n",
       "      <td>13.0</td>\n",
       "      <td>0.012192</td>\n",
       "    </tr>\n",
       "    <tr>\n",
       "      <th>14031</th>\n",
       "      <td>ffeffc54594debf3716d6fcd2402a99f</td>\n",
       "      <td>837.0</td>\n",
       "      <td>328.0</td>\n",
       "      <td>1107.0</td>\n",
       "      <td>414.0</td>\n",
       "      <td>11.0</td>\n",
       "      <td>0.015343</td>\n",
       "    </tr>\n",
       "    <tr>\n",
       "      <th>14032</th>\n",
       "      <td>ffeffc54594debf3716d6fcd2402a99f</td>\n",
       "      <td>857.0</td>\n",
       "      <td>1518.0</td>\n",
       "      <td>1867.0</td>\n",
       "      <td>1989.0</td>\n",
       "      <td>3.0</td>\n",
       "      <td>0.191284</td>\n",
       "    </tr>\n",
       "    <tr>\n",
       "      <th>14033</th>\n",
       "      <td>ffeffc54594debf3716d6fcd2402a99f</td>\n",
       "      <td>1251.0</td>\n",
       "      <td>759.0</td>\n",
       "      <td>1554.0</td>\n",
       "      <td>1162.0</td>\n",
       "      <td>0.0</td>\n",
       "      <td>0.782227</td>\n",
       "    </tr>\n",
       "  </tbody>\n",
       "</table>\n",
       "</div>"
      ],
      "text/plain": [
       "                               image_id   x_min   y_min   x_max   y_max label  \\\n",
       "14029  ffeffc54594debf3716d6fcd2402a99f  1396.0   333.0  1747.0   414.0  11.0   \n",
       "14030  ffeffc54594debf3716d6fcd2402a99f    19.0  2852.0   284.0  2944.0  13.0   \n",
       "14031  ffeffc54594debf3716d6fcd2402a99f   837.0   328.0  1107.0   414.0  11.0   \n",
       "14032  ffeffc54594debf3716d6fcd2402a99f   857.0  1518.0  1867.0  1989.0   3.0   \n",
       "14033  ffeffc54594debf3716d6fcd2402a99f  1251.0   759.0  1554.0  1162.0   0.0   \n",
       "\n",
       "      confidence_score  \n",
       "14029         0.011871  \n",
       "14030         0.012192  \n",
       "14031         0.015343  \n",
       "14032         0.191284  \n",
       "14033         0.782227  "
      ]
     },
     "execution_count": 9,
     "metadata": {},
     "output_type": "execute_result"
    }
   ],
   "source": [
    "sub_df = pd.merge(test_df, pred_df, on = 'image_id', how = 'left').fillna(\"14 1 0 0 1 1\")\n",
    "print(len(sub_df))\n",
    "\n",
    "sub_df.drop(['width', 'height'], axis=1, inplace=True)\n",
    "sub_df.to_csv('/kaggle/working/predictions_train_10.csv',index = False)\n",
    "\n",
    "sub_df.tail()"
   ]
  },
  {
   "cell_type": "code",
   "execution_count": 10,
   "metadata": {
    "execution": {
     "iopub.execute_input": "2021-03-26T12:20:27.644816Z",
     "iopub.status.busy": "2021-03-26T12:20:27.644096Z",
     "iopub.status.idle": "2021-03-26T12:20:27.649787Z",
     "shell.execute_reply": "2021-03-26T12:20:27.650248Z"
    },
    "papermill": {
     "duration": 0.024463,
     "end_time": "2021-03-26T12:20:27.650446",
     "exception": false,
     "start_time": "2021-03-26T12:20:27.625983",
     "status": "completed"
    },
    "tags": []
   },
   "outputs": [
    {
     "name": "stdout",
     "output_type": "stream",
     "text": [
      "/kaggle/working\n"
     ]
    },
    {
     "data": {
      "text/html": [
       "<a href='predictions_train_10.csv' target='_blank'>predictions_train_10.csv</a><br>"
      ],
      "text/plain": [
       "/kaggle/working/predictions_train_10.csv"
      ]
     },
     "execution_count": 10,
     "metadata": {},
     "output_type": "execute_result"
    }
   ],
   "source": [
    "%cd /kaggle/working\n",
    "\n",
    "from IPython.display import FileLink \n",
    "FileLink(r'predictions_train_10.csv')"
   ]
  },
  {
   "cell_type": "code",
   "execution_count": null,
   "metadata": {
    "papermill": {
     "duration": 0.013591,
     "end_time": "2021-03-26T12:20:27.677137",
     "exception": false,
     "start_time": "2021-03-26T12:20:27.663546",
     "status": "completed"
    },
    "tags": []
   },
   "outputs": [],
   "source": []
  }
 ],
 "metadata": {
  "kernelspec": {
   "display_name": "Python 3",
   "language": "python",
   "name": "python3"
  },
  "language_info": {
   "codemirror_mode": {
    "name": "ipython",
    "version": 3
   },
   "file_extension": ".py",
   "mimetype": "text/x-python",
   "name": "python",
   "nbconvert_exporter": "python",
   "pygments_lexer": "ipython3",
   "version": "3.7.9"
  },
  "papermill": {
   "default_parameters": {},
   "duration": 15.796568,
   "end_time": "2021-03-26T12:20:28.300406",
   "environment_variables": {},
   "exception": null,
   "input_path": "__notebook__.ipynb",
   "output_path": "__notebook__.ipynb",
   "parameters": {},
   "start_time": "2021-03-26T12:20:12.503838",
   "version": "2.2.2"
  },
  "widgets": {
   "application/vnd.jupyter.widget-state+json": {
    "state": {
     "044e1ccf040640b6ac54fae4b6b874e1": {
      "model_module": "@jupyter-widgets/controls",
      "model_module_version": "1.5.0",
      "model_name": "HTMLModel",
      "state": {
       "_dom_classes": [],
       "_model_module": "@jupyter-widgets/controls",
       "_model_module_version": "1.5.0",
       "_model_name": "HTMLModel",
       "_view_count": null,
       "_view_module": "@jupyter-widgets/controls",
       "_view_module_version": "1.5.0",
       "_view_name": "HTMLView",
       "description": "",
       "description_tooltip": null,
       "layout": "IPY_MODEL_789f9c3a129e4ebb85dbdec3e1f7f3fa",
       "placeholder": "​",
       "style": "IPY_MODEL_dad34fb0a80740d1a0aeeb88c98e0568",
       "value": " 1482/1482 [00:08&lt;00:00, 174.53it/s]"
      }
     },
     "3dd61b37fa8749c69e6c9b43fd4c579b": {
      "model_module": "@jupyter-widgets/base",
      "model_module_version": "1.2.0",
      "model_name": "LayoutModel",
      "state": {
       "_model_module": "@jupyter-widgets/base",
       "_model_module_version": "1.2.0",
       "_model_name": "LayoutModel",
       "_view_count": null,
       "_view_module": "@jupyter-widgets/base",
       "_view_module_version": "1.2.0",
       "_view_name": "LayoutView",
       "align_content": null,
       "align_items": null,
       "align_self": null,
       "border": null,
       "bottom": null,
       "display": null,
       "flex": null,
       "flex_flow": null,
       "grid_area": null,
       "grid_auto_columns": null,
       "grid_auto_flow": null,
       "grid_auto_rows": null,
       "grid_column": null,
       "grid_gap": null,
       "grid_row": null,
       "grid_template_areas": null,
       "grid_template_columns": null,
       "grid_template_rows": null,
       "height": null,
       "justify_content": null,
       "justify_items": null,
       "left": null,
       "margin": null,
       "max_height": null,
       "max_width": null,
       "min_height": null,
       "min_width": null,
       "object_fit": null,
       "object_position": null,
       "order": null,
       "overflow": null,
       "overflow_x": null,
       "overflow_y": null,
       "padding": null,
       "right": null,
       "top": null,
       "visibility": null,
       "width": null
      }
     },
     "6c62ae59e76e4bc5bdb932815bd23f8e": {
      "model_module": "@jupyter-widgets/controls",
      "model_module_version": "1.5.0",
      "model_name": "ProgressStyleModel",
      "state": {
       "_model_module": "@jupyter-widgets/controls",
       "_model_module_version": "1.5.0",
       "_model_name": "ProgressStyleModel",
       "_view_count": null,
       "_view_module": "@jupyter-widgets/base",
       "_view_module_version": "1.2.0",
       "_view_name": "StyleView",
       "bar_color": null,
       "description_width": ""
      }
     },
     "6ec9ead3cf204cf19f4968b5d2139331": {
      "model_module": "@jupyter-widgets/controls",
      "model_module_version": "1.5.0",
      "model_name": "HBoxModel",
      "state": {
       "_dom_classes": [],
       "_model_module": "@jupyter-widgets/controls",
       "_model_module_version": "1.5.0",
       "_model_name": "HBoxModel",
       "_view_count": null,
       "_view_module": "@jupyter-widgets/controls",
       "_view_module_version": "1.5.0",
       "_view_name": "HBoxView",
       "box_style": "",
       "children": [
        "IPY_MODEL_90f1b60e11e8481c808f70b0d652be10",
        "IPY_MODEL_dbdb8dcb6758432cbf37abcb17027083",
        "IPY_MODEL_044e1ccf040640b6ac54fae4b6b874e1"
       ],
       "layout": "IPY_MODEL_ab1b3cab2b804a14be50f14825e4c382"
      }
     },
     "789f9c3a129e4ebb85dbdec3e1f7f3fa": {
      "model_module": "@jupyter-widgets/base",
      "model_module_version": "1.2.0",
      "model_name": "LayoutModel",
      "state": {
       "_model_module": "@jupyter-widgets/base",
       "_model_module_version": "1.2.0",
       "_model_name": "LayoutModel",
       "_view_count": null,
       "_view_module": "@jupyter-widgets/base",
       "_view_module_version": "1.2.0",
       "_view_name": "LayoutView",
       "align_content": null,
       "align_items": null,
       "align_self": null,
       "border": null,
       "bottom": null,
       "display": null,
       "flex": null,
       "flex_flow": null,
       "grid_area": null,
       "grid_auto_columns": null,
       "grid_auto_flow": null,
       "grid_auto_rows": null,
       "grid_column": null,
       "grid_gap": null,
       "grid_row": null,
       "grid_template_areas": null,
       "grid_template_columns": null,
       "grid_template_rows": null,
       "height": null,
       "justify_content": null,
       "justify_items": null,
       "left": null,
       "margin": null,
       "max_height": null,
       "max_width": null,
       "min_height": null,
       "min_width": null,
       "object_fit": null,
       "object_position": null,
       "order": null,
       "overflow": null,
       "overflow_x": null,
       "overflow_y": null,
       "padding": null,
       "right": null,
       "top": null,
       "visibility": null,
       "width": null
      }
     },
     "90f1b60e11e8481c808f70b0d652be10": {
      "model_module": "@jupyter-widgets/controls",
      "model_module_version": "1.5.0",
      "model_name": "HTMLModel",
      "state": {
       "_dom_classes": [],
       "_model_module": "@jupyter-widgets/controls",
       "_model_module_version": "1.5.0",
       "_model_name": "HTMLModel",
       "_view_count": null,
       "_view_module": "@jupyter-widgets/controls",
       "_view_module_version": "1.5.0",
       "_view_name": "HTMLView",
       "description": "",
       "description_tooltip": null,
       "layout": "IPY_MODEL_9f5b6d083bc241c4997b27d69799d339",
       "placeholder": "​",
       "style": "IPY_MODEL_a38472cc86634c96ad04ab7ee8bca226",
       "value": "100%"
      }
     },
     "9f5b6d083bc241c4997b27d69799d339": {
      "model_module": "@jupyter-widgets/base",
      "model_module_version": "1.2.0",
      "model_name": "LayoutModel",
      "state": {
       "_model_module": "@jupyter-widgets/base",
       "_model_module_version": "1.2.0",
       "_model_name": "LayoutModel",
       "_view_count": null,
       "_view_module": "@jupyter-widgets/base",
       "_view_module_version": "1.2.0",
       "_view_name": "LayoutView",
       "align_content": null,
       "align_items": null,
       "align_self": null,
       "border": null,
       "bottom": null,
       "display": null,
       "flex": null,
       "flex_flow": null,
       "grid_area": null,
       "grid_auto_columns": null,
       "grid_auto_flow": null,
       "grid_auto_rows": null,
       "grid_column": null,
       "grid_gap": null,
       "grid_row": null,
       "grid_template_areas": null,
       "grid_template_columns": null,
       "grid_template_rows": null,
       "height": null,
       "justify_content": null,
       "justify_items": null,
       "left": null,
       "margin": null,
       "max_height": null,
       "max_width": null,
       "min_height": null,
       "min_width": null,
       "object_fit": null,
       "object_position": null,
       "order": null,
       "overflow": null,
       "overflow_x": null,
       "overflow_y": null,
       "padding": null,
       "right": null,
       "top": null,
       "visibility": null,
       "width": null
      }
     },
     "a38472cc86634c96ad04ab7ee8bca226": {
      "model_module": "@jupyter-widgets/controls",
      "model_module_version": "1.5.0",
      "model_name": "DescriptionStyleModel",
      "state": {
       "_model_module": "@jupyter-widgets/controls",
       "_model_module_version": "1.5.0",
       "_model_name": "DescriptionStyleModel",
       "_view_count": null,
       "_view_module": "@jupyter-widgets/base",
       "_view_module_version": "1.2.0",
       "_view_name": "StyleView",
       "description_width": ""
      }
     },
     "ab1b3cab2b804a14be50f14825e4c382": {
      "model_module": "@jupyter-widgets/base",
      "model_module_version": "1.2.0",
      "model_name": "LayoutModel",
      "state": {
       "_model_module": "@jupyter-widgets/base",
       "_model_module_version": "1.2.0",
       "_model_name": "LayoutModel",
       "_view_count": null,
       "_view_module": "@jupyter-widgets/base",
       "_view_module_version": "1.2.0",
       "_view_name": "LayoutView",
       "align_content": null,
       "align_items": null,
       "align_self": null,
       "border": null,
       "bottom": null,
       "display": null,
       "flex": null,
       "flex_flow": null,
       "grid_area": null,
       "grid_auto_columns": null,
       "grid_auto_flow": null,
       "grid_auto_rows": null,
       "grid_column": null,
       "grid_gap": null,
       "grid_row": null,
       "grid_template_areas": null,
       "grid_template_columns": null,
       "grid_template_rows": null,
       "height": null,
       "justify_content": null,
       "justify_items": null,
       "left": null,
       "margin": null,
       "max_height": null,
       "max_width": null,
       "min_height": null,
       "min_width": null,
       "object_fit": null,
       "object_position": null,
       "order": null,
       "overflow": null,
       "overflow_x": null,
       "overflow_y": null,
       "padding": null,
       "right": null,
       "top": null,
       "visibility": null,
       "width": null
      }
     },
     "dad34fb0a80740d1a0aeeb88c98e0568": {
      "model_module": "@jupyter-widgets/controls",
      "model_module_version": "1.5.0",
      "model_name": "DescriptionStyleModel",
      "state": {
       "_model_module": "@jupyter-widgets/controls",
       "_model_module_version": "1.5.0",
       "_model_name": "DescriptionStyleModel",
       "_view_count": null,
       "_view_module": "@jupyter-widgets/base",
       "_view_module_version": "1.2.0",
       "_view_name": "StyleView",
       "description_width": ""
      }
     },
     "dbdb8dcb6758432cbf37abcb17027083": {
      "model_module": "@jupyter-widgets/controls",
      "model_module_version": "1.5.0",
      "model_name": "FloatProgressModel",
      "state": {
       "_dom_classes": [],
       "_model_module": "@jupyter-widgets/controls",
       "_model_module_version": "1.5.0",
       "_model_name": "FloatProgressModel",
       "_view_count": null,
       "_view_module": "@jupyter-widgets/controls",
       "_view_module_version": "1.5.0",
       "_view_name": "ProgressView",
       "bar_style": "success",
       "description": "",
       "description_tooltip": null,
       "layout": "IPY_MODEL_3dd61b37fa8749c69e6c9b43fd4c579b",
       "max": 1482.0,
       "min": 0.0,
       "orientation": "horizontal",
       "style": "IPY_MODEL_6c62ae59e76e4bc5bdb932815bd23f8e",
       "value": 1482.0
      }
     }
    },
    "version_major": 2,
    "version_minor": 0
   }
  }
 },
 "nbformat": 4,
 "nbformat_minor": 4
}
